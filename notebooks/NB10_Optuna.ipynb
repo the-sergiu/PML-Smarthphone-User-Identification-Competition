{
 "cells": [
  {
   "cell_type": "code",
   "execution_count": 1,
   "id": "3aeba630",
   "metadata": {},
   "outputs": [],
   "source": [
    "# !pip install optuna"
   ]
  },
  {
   "cell_type": "markdown",
   "id": "b4010bbd",
   "metadata": {},
   "source": [
    "## Imports"
   ]
  },
  {
   "cell_type": "code",
   "execution_count": 1,
   "id": "3643772d",
   "metadata": {},
   "outputs": [],
   "source": [
    "import pandas as pd \n",
    "import numpy as np\n",
    "import sklearn\n",
    "import pickle\n",
    "import matplotlib.pyplot as plt\n",
    "import lazypredict\n",
    "import xgboost as xgb\n",
    "\n",
    "from skopt import BayesSearchCV\n",
    "from sklearn.linear_model import LogisticRegression\n",
    "from sklearn.ensemble import ExtraTreesClassifier, StackingClassifier, BaggingClassifier, GradientBoostingClassifier\n",
    "from sklearn.svm import SVC\n",
    "from sklearn.neighbors import KNeighborsClassifier\n",
    "from sklearn.metrics import ConfusionMatrixDisplay, confusion_matrix, accuracy_score, make_scorer\n",
    "from sklearn.model_selection import train_test_split, GridSearchCV, RepeatedStratifiedKFold, RandomizedSearchCV, cross_val_score\n",
    "\n",
    "import optuna\n",
    "from lazypredict.Supervised import LazyClassifier\n",
    "import lightgbm as lgb\n",
    "from catboost import CatBoostClassifier"
   ]
  },
  {
   "cell_type": "code",
   "execution_count": 2,
   "id": "9ee83209",
   "metadata": {},
   "outputs": [],
   "source": [
    "def make_submission(preds):\n",
    "    assert len(preds) == 5000\n",
    "    \n",
    "    # Read labels\n",
    "    with open('test_labels_sorted.npy', 'rb') as f:\n",
    "        test_labels = np.load(f)\n",
    "    len(test_labels)\n",
    "    \n",
    "    submission = pd.DataFrame(columns=['id', 'class'])\n",
    "    for label, pred in zip(test_labels, preds):\n",
    "        submission = submission.append({'id': label, 'class': pred}, ignore_index=True)\n",
    "    return submission"
   ]
  },
  {
   "cell_type": "code",
   "execution_count": 3,
   "id": "e00a6011",
   "metadata": {},
   "outputs": [],
   "source": [
    "def plot_confusion_matrix(y_val_from_train, y_pred_from_train):\n",
    "    fig, ax = plt.subplots(figsize=(8, 5))\n",
    "    cmp = ConfusionMatrixDisplay(\n",
    "        confusion_matrix(y_val_from_train, y_pred_from_train),\n",
    "    #     display_labels=[\"class_1\", \"class_2\", \"class_3\", \"class_4\"],\n",
    "    )\n",
    "\n",
    "    cmp.plot(ax=ax)\n",
    "    plt.show();"
   ]
  },
  {
   "cell_type": "markdown",
   "id": "fcd28c77",
   "metadata": {},
   "source": [
    "## Import training data with 64 features - X_train, y_train, X_test"
   ]
  },
  {
   "cell_type": "code",
   "execution_count": 4,
   "id": "44038005",
   "metadata": {},
   "outputs": [
    {
     "name": "stdout",
     "output_type": "stream",
     "text": [
      "(9000, 64)\n"
     ]
    },
    {
     "data": {
      "text/plain": [
       "array([[-8.81665000e-01,  1.04447100e+00,  1.59010940e-01, ...,\n",
       "         7.64136797e-02,  2.23461397e-02,  1.29471645e+01],\n",
       "       [-1.10552300e+00,  1.12647200e+00,  1.74547752e-01, ...,\n",
       "         1.13979068e-01,  2.85805084e-02,  1.38184886e+01],\n",
       "       [-2.64679000e+00,  3.47160000e-02, -1.61696002e+00, ...,\n",
       "         7.77954261e-02,  3.10021816e-02,  1.33114980e+01],\n",
       "       ...,\n",
       "       [-1.56939900e+00,  8.21211000e-01, -4.06112460e-01, ...,\n",
       "         1.29546035e-01,  3.10393141e-02,  1.38336216e+01],\n",
       "       [-1.09474900e+00,  1.15340700e+00,  8.15228667e-03, ...,\n",
       "         1.52495097e-01,  4.72684630e-02,  1.39800549e+01],\n",
       "       [-1.13664700e+00,  8.64905000e-01, -5.17633651e-01, ...,\n",
       "         5.24448737e-02,  3.02990790e-02,  1.37358806e+01]])"
      ]
     },
     "execution_count": 4,
     "metadata": {},
     "output_type": "execute_result"
    }
   ],
   "source": [
    "# Load X_train\n",
    "with open('X_train_64.npy', 'rb') as f:\n",
    "    X_train = np.load(f)\n",
    "print(X_train.shape)\n",
    "X_train"
   ]
  },
  {
   "cell_type": "code",
   "execution_count": 5,
   "id": "9529d46a",
   "metadata": {},
   "outputs": [
    {
     "name": "stdout",
     "output_type": "stream",
     "text": [
      "(9000,)\n"
     ]
    },
    {
     "data": {
      "text/plain": [
       "array([ 7, 13,  6, ...,  3,  3, 18], dtype=int64)"
      ]
     },
     "execution_count": 5,
     "metadata": {},
     "output_type": "execute_result"
    }
   ],
   "source": [
    "# Load y_train\n",
    "with open('y_train.npy', 'rb') as f:\n",
    "    y_train = np.load(f)\n",
    "print(y_train.shape)\n",
    "y_train"
   ]
  },
  {
   "cell_type": "code",
   "execution_count": 6,
   "id": "4f9ce2d4",
   "metadata": {},
   "outputs": [
    {
     "name": "stdout",
     "output_type": "stream",
     "text": [
      "(5000, 64)\n"
     ]
    },
    {
     "data": {
      "text/plain": [
       "array([[-1.83755000e+00,  1.38265100e+00, -3.05412347e-01, ...,\n",
       "         1.69465441e-01,  4.55106589e-02,  1.37640621e+01],\n",
       "       [-1.74357700e+00,  1.61488900e+00, -3.54157081e-01, ...,\n",
       "         9.01118934e-02,  3.03245873e-02,  1.29569175e+01],\n",
       "       [-1.87047000e+00, -2.16077000e-01, -8.47212227e-01, ...,\n",
       "         1.27677673e-01,  2.67303936e-02,  1.39464683e+01],\n",
       "       ...,\n",
       "       [-6.30872000e-01,  6.78756000e-01,  4.29758667e-03, ...,\n",
       "         5.26696304e-02,  2.91492287e-02,  1.29786762e+01],\n",
       "       [-2.13143800e+00,  4.72850000e-02, -1.05151830e+00, ...,\n",
       "         7.00060125e-02,  2.16020454e-02,  1.42111488e+01],\n",
       "       [-1.54605600e+00,  2.98677000e-01, -5.40031205e-01, ...,\n",
       "         1.12113293e-01,  2.19392284e-02,  1.25388069e+01]])"
      ]
     },
     "execution_count": 6,
     "metadata": {},
     "output_type": "execute_result"
    }
   ],
   "source": [
    "# Load X_test\n",
    "with open('X_test_64.npy', 'rb') as f:\n",
    "    X_test = np.load(f)\n",
    "print(X_test.shape)\n",
    "X_test"
   ]
  },
  {
   "cell_type": "code",
   "execution_count": 7,
   "id": "e2331adb",
   "metadata": {},
   "outputs": [],
   "source": [
    "# Create validation data\n",
    "# Train/test sets\n",
    "X_train_from_train, X_val_from_train, y_train_from_train, y_val_from_train = train_test_split(\n",
    "    X_train, y_train, test_size=0.10, random_state=42\n",
    ")"
   ]
  },
  {
   "cell_type": "markdown",
   "id": "0be8cf7d",
   "metadata": {},
   "source": [
    "## Optuna hyper-tuning ExtraTreesClassifier"
   ]
  },
  {
   "cell_type": "code",
   "execution_count": 36,
   "id": "6cf09407",
   "metadata": {},
   "outputs": [],
   "source": [
    "def get_objective(X_train, y_train, X_valid, y_valid):\n",
    "    def objective(trial):\n",
    "        hyperparams = {\n",
    "            \"n_estimators\": trial.suggest_int(\"n_estimators\", 100, 1000),\n",
    "            \"max_depth\": trial.suggest_int(\"max_depth\", 5, 100),\n",
    "            \"min_samples_split\": trial.suggest_int(\"min_samples_split\", 2, 15),\n",
    "            \"min_samples_leaf\": trial.suggest_int(\"min_samples_leaf\", 1, 10),\n",
    "            \"bootstrap\": trial.suggest_categorical(\"bootstrap\", [True, False]),\n",
    "            \"warm_start\": trial.suggest_categorical(\"warm_start\", [True, False])\n",
    "        }\n",
    "        model = ExtraTreesClassifier(n_jobs=-1, **hyperparams)\n",
    "        model.fit(X_train, y_train)\n",
    "        y_pred_from_train = model.predict(X_valid)\n",
    "        score = accuracy_score(y_valid, y_pred_from_train)\n",
    "        \n",
    "        return score\n",
    "    return objective"
   ]
  },
  {
   "cell_type": "code",
   "execution_count": 37,
   "id": "b20ae502",
   "metadata": {},
   "outputs": [
    {
     "data": {
      "application/vnd.jupyter.widget-view+json": {
       "model_id": "8bc40768e86548258f9ced0b4cdffc8c",
       "version_major": 2,
       "version_minor": 0
      },
      "text/plain": [
       "  0%|          | 0/500 [00:00<?, ?it/s]"
      ]
     },
     "metadata": {},
     "output_type": "display_data"
    }
   ],
   "source": [
    "objective = get_objective(X_train_from_train, y_train_from_train, X_val_from_train, y_val_from_train)\n",
    "optuna.logging.set_verbosity(optuna.logging.CRITICAL)\n",
    "sampler = optuna.samplers.TPESampler(seed=42)\n",
    "study = optuna.create_study(sampler=sampler, direction=\"maximize\")\n",
    "study.optimize(objective, n_trials=500, show_progress_bar=True)\n",
    "best_params = study.best_params if study.trials else {}"
   ]
  },
  {
   "cell_type": "code",
   "execution_count": 38,
   "id": "5d711493",
   "metadata": {},
   "outputs": [
    {
     "data": {
      "text/plain": [
       "{'n_estimators': 933,\n",
       " 'max_depth': 79,\n",
       " 'min_samples_split': 2,\n",
       " 'min_samples_leaf': 1,\n",
       " 'bootstrap': False,\n",
       " 'warm_start': False}"
      ]
     },
     "execution_count": 38,
     "metadata": {},
     "output_type": "execute_result"
    }
   ],
   "source": [
    "best_params\n",
    "\n",
    "\"\"\"\n",
    "{'n_estimators': 933,\n",
    " 'max_depth': 79,\n",
    " 'min_samples_split': 2,\n",
    " 'min_samples_leaf': 1,\n",
    " 'bootstrap': False,\n",
    " 'warm_start': False}\n",
    "\"\"\""
   ]
  },
  {
   "cell_type": "markdown",
   "id": "c67c072a",
   "metadata": {},
   "source": [
    "## Optuna hyper-tuning GradientBoostingClassifier -> Fails to start"
   ]
  },
  {
   "cell_type": "code",
   "execution_count": 30,
   "id": "cae683e1",
   "metadata": {},
   "outputs": [],
   "source": [
    "# def get_objective(X_train, y_train, X_valid, y_valid):\n",
    "#     def objective(trial):\n",
    "#         hyperparams = {\n",
    "#             \"learning_rate\": trial.suggest_float(\"learning_rate\", 0.01, 0.3, step=0.01),\n",
    "#             \"max_depth\": trial.suggest_int(\"max_depth\", 5, 13),\n",
    "#             \"subsample\":trial.suggest_float(\"subsample\",0.5, 0.9),\n",
    "#             \"n_estimators\": trial.suggest_int(\"n_estimators\", 100, 1000, step=100),\n",
    "#         }\n",
    "#         model = GradientBoostingClassifier(**hyperparams)\n",
    "#         model.fit(X_train, y_train)\n",
    "#         y_pred_from_train = model.predict(X_valid)\n",
    "#         score = accuracy_score(y_valid, y_pred_from_train)\n",
    "        \n",
    "#         return score\n",
    "#     return objective"
   ]
  },
  {
   "cell_type": "code",
   "execution_count": 8,
   "id": "52e74f63",
   "metadata": {},
   "outputs": [],
   "source": [
    "# objective = get_objective(X_train_from_train, y_train_from_train, X_val_from_train, y_val_from_train)\n",
    "# optuna.logging.set_verbosity(optuna.logging.CRITICAL)\n",
    "# sampler = optuna.samplers.TPESampler(seed=42)\n",
    "# study = optuna.create_study(sampler=sampler, direction=\"maximize\")\n",
    "# study.optimize(objective, n_trials=500, show_progress_bar=True)\n",
    "# best_params = study.best_params if study.trials else {}"
   ]
  },
  {
   "cell_type": "code",
   "execution_count": null,
   "id": "739ccb46",
   "metadata": {},
   "outputs": [],
   "source": [
    "# best_params"
   ]
  },
  {
   "cell_type": "markdown",
   "id": "ecd5d3f1",
   "metadata": {},
   "source": [
    "## TODO: Move here Optuna Hyper-tuning LGBM"
   ]
  },
  {
   "cell_type": "code",
   "execution_count": null,
   "id": "ed4c933b",
   "metadata": {},
   "outputs": [],
   "source": [
    "def get_objective(X_train, y_train, X_valid, y_valid):\n",
    "    def objective(trial):\n",
    "        hyperparams = {\n",
    "            \"min_child_samples\": trial.suggest_int(\"min_child_samples\", 3, 20),\n",
    "            \"num_iterations\": trial.suggest_int(\"num_iterations\", 100, 2000),\n",
    "            \"num_leaves\": trial.suggest_int(\"num_leaves\", 20, 100),\n",
    "            \"min_data_in_leaf\": trial.suggest_int(\"min_data_in_leaf\", 2, 100),\n",
    "            \"max_bin\": trial.suggest_int(\"max_bin\", 20, 200),\n",
    "            \"max_depth\": trial.suggest_int(\"max_depth\", -1, 100),\n",
    "            \"learning_rate\": trial.suggest_float(\"learning_rate\", 0.05, 0.3, step=0.01),\n",
    "            \"reg_alpha\": trial.suggest_float(\"reg_alpha\", 0, 0.03)\n",
    "        }\n",
    "        model = lgb.LGBMClassifier(objective='multiclass', num_class=20, n_jobs=-1, seed=42, boosting='dart', **hyperparams)\n",
    "        model.fit(X_train, y_train)\n",
    "        y_pred_from_train = model.predict(X_valid)\n",
    "        score = accuracy_score(y_valid, y_pred_from_train)\n",
    "        \n",
    "        return score\n",
    "    return objective"
   ]
  },
  {
   "cell_type": "code",
   "execution_count": null,
   "id": "bf0c17ba",
   "metadata": {},
   "outputs": [],
   "source": [
    "objective = get_objective(X_train_from_train, y_train_from_train, X_val_from_train, y_val_from_train)\n",
    "optuna.logging.set_verbosity(optuna.logging.CRITICAL)\n",
    "sampler = optuna.samplers.TPESampler(seed=42)\n",
    "study = optuna.create_study(sampler=sampler, direction=\"maximize\")\n",
    "study.optimize(objective, n_trials=500, show_progress_bar=True)\n",
    "best_params = study.best_params if study.trials else {}"
   ]
  },
  {
   "cell_type": "code",
   "execution_count": null,
   "id": "cd2bd173",
   "metadata": {},
   "outputs": [],
   "source": [
    "best_params\n",
    "\n",
    "\"\"\"\n",
    "{'min_child_samples': 12,\n",
    " 'num_iterations': 1936,\n",
    " 'num_leaves': 66,\n",
    " 'min_data_in_leaf': 50,\n",
    " 'max_bin': 20,\n",
    " 'max_depth': 17,\n",
    " 'learning_rate': 0.24,\n",
    " 'reg_alpha': 0.0004127769671094072}\n",
    "\"\"\""
   ]
  },
  {
   "cell_type": "markdown",
   "id": "de0475f0",
   "metadata": {},
   "source": [
    "## TODO: Optuna hyper-tuning Catboost"
   ]
  },
  {
   "cell_type": "code",
   "execution_count": null,
   "id": "5c9be5d9",
   "metadata": {},
   "outputs": [],
   "source": [
    "def get_objective(X_train, y_train, X_valid, y_valid):\n",
    "    def objective(trial):\n",
    "        hyperparams = {\n",
    "            \"border_count\": trial.suggest_int(\"border_count\", 1, 254),\n",
    "            \"depth\": trial.suggest_int(\"depth\", 1, 13),\n",
    "            \"iterations\": trial.suggest_int(\"iterations\", 100, 500),\n",
    "            \"l2_leaf_reg\": trial.suggest_int(\"l2_leaf_reg\", 1, 100),\n",
    "        }\n",
    "        model = CatBoostClassifier(verbose=False, **hyperparams)\n",
    "        model.fit(X_train, y_train)\n",
    "        y_pred_from_train = model.predict(X_valid)\n",
    "        score = accuracy_score(y_valid, y_pred_from_train)\n",
    "        \n",
    "        return score\n",
    "    return objective\n",
    "    "
   ]
  },
  {
   "cell_type": "code",
   "execution_count": null,
   "id": "f9005818",
   "metadata": {},
   "outputs": [],
   "source": [
    "objective = get_objective(X_train_from_train, y_train_from_train, X_val_from_train, y_val_from_train)\n",
    "optuna.logging.set_verbosity(optuna.logging.CRITICAL)\n",
    "sampler = optuna.samplers.TPESampler(seed=42)\n",
    "study = optuna.create_study(sampler=sampler, direction=\"maximize\")\n",
    "study.optimize(objective, n_trials=500, show_progress_bar=True)\n",
    "best_params = study.best_params if study.trials else {}"
   ]
  },
  {
   "cell_type": "code",
   "execution_count": null,
   "id": "6ac59379",
   "metadata": {},
   "outputs": [],
   "source": [
    "best_params"
   ]
  },
  {
   "cell_type": "markdown",
   "id": "09d455ac",
   "metadata": {},
   "source": [
    "## Optuna hyper-tuning SVC"
   ]
  },
  {
   "cell_type": "code",
   "execution_count": 8,
   "id": "fb488c45",
   "metadata": {},
   "outputs": [],
   "source": [
    "def get_objective(X_train, y_train, X_valid, y_valid):\n",
    "    def objective(trial):\n",
    "        hyperparams = {\n",
    "            \"C\": trial.suggest_int(\"C\", 50, 300, step = 10), \n",
    "            \"kernel\": trial.suggest_categorical(\"kernel\", ['linear', 'poly']),\n",
    "            \"degree\": trial.suggest_int(\"degree\", 1, 3),\n",
    "        }\n",
    "        model = SVC(**hyperparams)\n",
    "        model.fit(X_train, y_train)\n",
    "        y_pred_from_train = model.predict(X_valid)\n",
    "        score = accuracy_score(y_valid, y_pred_from_train)\n",
    "        \n",
    "        return score\n",
    "    return objective"
   ]
  },
  {
   "cell_type": "code",
   "execution_count": 9,
   "id": "cdcf52a8",
   "metadata": {},
   "outputs": [
    {
     "data": {
      "application/vnd.jupyter.widget-view+json": {
       "model_id": "a7450b27a65149a2a7c38c24ceb58d8e",
       "version_major": 2,
       "version_minor": 0
      },
      "text/plain": [
       "  0%|          | 0/1000 [00:00<?, ?it/s]"
      ]
     },
     "metadata": {},
     "output_type": "display_data"
    }
   ],
   "source": [
    "objective = get_objective(X_train_from_train, y_train_from_train, X_val_from_train, y_val_from_train)\n",
    "optuna.logging.set_verbosity(optuna.logging.CRITICAL)\n",
    "sampler = optuna.samplers.TPESampler(seed=42)\n",
    "study = optuna.create_study(sampler=sampler, direction=\"maximize\")\n",
    "study.optimize(objective, n_trials=1000, show_progress_bar=True)\n",
    "best_params = study.best_params if study.trials else {}"
   ]
  },
  {
   "cell_type": "code",
   "execution_count": 10,
   "id": "de93dbc2",
   "metadata": {},
   "outputs": [
    {
     "data": {
      "text/plain": [
       "{'C': 50, 'kernel': 'linear', 'degree': 3}"
      ]
     },
     "execution_count": 10,
     "metadata": {},
     "output_type": "execute_result"
    }
   ],
   "source": [
    "best_params"
   ]
  },
  {
   "cell_type": "markdown",
   "id": "4722a75f",
   "metadata": {},
   "source": []
  },
  {
   "cell_type": "code",
   "execution_count": null,
   "id": "d9196ba7",
   "metadata": {},
   "outputs": [],
   "source": []
  }
 ],
 "metadata": {
  "kernelspec": {
   "display_name": "Python 3 (ipykernel)",
   "language": "python",
   "name": "python3"
  },
  "language_info": {
   "codemirror_mode": {
    "name": "ipython",
    "version": 3
   },
   "file_extension": ".py",
   "mimetype": "text/x-python",
   "name": "python",
   "nbconvert_exporter": "python",
   "pygments_lexer": "ipython3",
   "version": "3.9.13"
  }
 },
 "nbformat": 4,
 "nbformat_minor": 5
}
