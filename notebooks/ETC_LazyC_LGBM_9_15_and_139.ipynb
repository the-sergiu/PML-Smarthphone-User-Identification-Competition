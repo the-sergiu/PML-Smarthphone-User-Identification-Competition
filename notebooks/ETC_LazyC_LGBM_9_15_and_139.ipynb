{
 "cells": [
  {
   "cell_type": "code",
   "execution_count": 165,
   "metadata": {},
   "outputs": [
    {
     "name": "stdout",
     "output_type": "stream",
     "text": [
      "Requirement already satisfied: lazypredict in /home/serj/anaconda3/lib/python3.8/site-packages (0.2.12)\n",
      "Requirement already satisfied: pandas in /home/serj/anaconda3/lib/python3.8/site-packages (from lazypredict) (1.1.3)\n",
      "Requirement already satisfied: scikit-learn in /home/serj/anaconda3/lib/python3.8/site-packages (from lazypredict) (0.23.2)\n",
      "Requirement already satisfied: tqdm in /home/serj/anaconda3/lib/python3.8/site-packages (from lazypredict) (4.50.2)\n",
      "Requirement already satisfied: xgboost in /home/serj/anaconda3/lib/python3.8/site-packages (from lazypredict) (1.7.1)\n",
      "Requirement already satisfied: lightgbm in /home/serj/anaconda3/lib/python3.8/site-packages (from lazypredict) (3.3.3)\n",
      "Requirement already satisfied: click in /home/serj/anaconda3/lib/python3.8/site-packages (from lazypredict) (7.1.2)\n",
      "Requirement already satisfied: joblib in /home/serj/anaconda3/lib/python3.8/site-packages (from lazypredict) (0.17.0)\n",
      "Requirement already satisfied: numpy>=1.15.4 in /home/serj/anaconda3/lib/python3.8/site-packages (from pandas->lazypredict) (1.19.2)\n",
      "Requirement already satisfied: python-dateutil>=2.7.3 in /home/serj/anaconda3/lib/python3.8/site-packages (from pandas->lazypredict) (2.8.1)\n",
      "Requirement already satisfied: pytz>=2017.2 in /home/serj/anaconda3/lib/python3.8/site-packages (from pandas->lazypredict) (2020.1)\n",
      "Requirement already satisfied: scipy>=0.19.1 in /home/serj/anaconda3/lib/python3.8/site-packages (from scikit-learn->lazypredict) (1.5.2)\n",
      "Requirement already satisfied: threadpoolctl>=2.0.0 in /home/serj/anaconda3/lib/python3.8/site-packages (from scikit-learn->lazypredict) (2.1.0)\n",
      "Requirement already satisfied: wheel in /home/serj/anaconda3/lib/python3.8/site-packages (from lightgbm->lazypredict) (0.35.1)\n",
      "Requirement already satisfied: six>=1.5 in /home/serj/anaconda3/lib/python3.8/site-packages (from python-dateutil>=2.7.3->pandas->lazypredict) (1.15.0)\n",
      "Requirement already satisfied: lightgbm in /home/serj/anaconda3/lib/python3.8/site-packages (3.3.3)\n",
      "Requirement already satisfied: scikit-learn!=0.22.0 in /home/serj/anaconda3/lib/python3.8/site-packages (from lightgbm) (0.23.2)\n",
      "Requirement already satisfied: scipy in /home/serj/anaconda3/lib/python3.8/site-packages (from lightgbm) (1.5.2)\n",
      "Requirement already satisfied: wheel in /home/serj/anaconda3/lib/python3.8/site-packages (from lightgbm) (0.35.1)\n",
      "Requirement already satisfied: numpy in /home/serj/anaconda3/lib/python3.8/site-packages (from lightgbm) (1.19.2)\n",
      "Requirement already satisfied: joblib>=0.11 in /home/serj/anaconda3/lib/python3.8/site-packages (from scikit-learn!=0.22.0->lightgbm) (0.17.0)\n",
      "Requirement already satisfied: threadpoolctl>=2.0.0 in /home/serj/anaconda3/lib/python3.8/site-packages (from scikit-learn!=0.22.0->lightgbm) (2.1.0)\n"
     ]
    }
   ],
   "source": [
    "!pip install lazypredict\n",
    "!pip install lightgbm"
   ]
  },
  {
   "cell_type": "code",
   "execution_count": 166,
   "metadata": {},
   "outputs": [],
   "source": [
    "import pandas as pd \n",
    "import numpy as np\n",
    "import sklearn\n",
    "import pickle\n",
    "import matplotlib.pyplot as plt\n",
    "import lazypredict\n",
    "\n",
    "from sklearn.model_selection import train_test_split\n",
    "from sklearn.linear_model import LogisticRegression\n",
    "from sklearn.ensemble import ExtraTreesClassifier\n",
    "from sklearn.metrics import ConfusionMatrixDisplay, confusion_matrix\n",
    "from sklearn.metrics import accuracy_score\n",
    "from lazypredict.Supervised import LazyClassifier\n",
    "import lightgbm as lgb"
   ]
  },
  {
   "cell_type": "markdown",
   "metadata": {},
   "source": [
    "# Try training using 139 features"
   ]
  },
  {
   "cell_type": "code",
   "execution_count": 77,
   "metadata": {},
   "outputs": [
    {
     "name": "stdout",
     "output_type": "stream",
     "text": [
      "(9000, 417)\n"
     ]
    },
    {
     "data": {
      "text/plain": [
       "array([[-0.767342, -0.826   , -0.819415, ...,  7.796718,  7.776966,\n",
       "         7.876924],\n",
       "       [-1.105523, -1.020528, -0.965462, ...,  9.086594,  9.029732,\n",
       "         8.874108],\n",
       "       [-0.226252, -0.229245, -0.232836, ...,  7.251439,  7.259818,\n",
       "         7.328053],\n",
       "       ...,\n",
       "       [ 0.821211,  0.562039,  0.484227, ...,  8.597578,  8.637681,\n",
       "         9.003994],\n",
       "       [ 0.604536,  0.350152,  0.344166, ...,  6.500856,  6.757634,\n",
       "         7.347805],\n",
       "       [-0.60274 , -0.545279, -0.478242, ...,  7.693767,  7.503428,\n",
       "         7.226299]])"
      ]
     },
     "execution_count": 77,
     "metadata": {},
     "output_type": "execute_result"
    }
   ],
   "source": [
    "# Load X_train\n",
    "with open('X_train_139.npy', 'rb') as f:\n",
    "    X_train = np.load(f)\n",
    "print(X_train.shape)\n",
    "X_train"
   ]
  },
  {
   "cell_type": "code",
   "execution_count": 78,
   "metadata": {},
   "outputs": [
    {
     "data": {
      "text/plain": [
       "array([ 7, 13,  6, ...,  3,  3, 18])"
      ]
     },
     "execution_count": 78,
     "metadata": {},
     "output_type": "execute_result"
    }
   ],
   "source": [
    "# Load y_train\n",
    "with open('y_train_139.npy', 'rb') as f:\n",
    "    y_train = np.load(f)\n",
    "y_train.shape\n",
    "y_train"
   ]
  },
  {
   "cell_type": "code",
   "execution_count": 79,
   "metadata": {},
   "outputs": [],
   "source": [
    "# Create validation data\n",
    "# Train/test sets\n",
    "X_train_from_train, X_val_from_train, y_train_from_train, y_val_from_train = train_test_split(\n",
    "    X_train, y_train, test_size=0.1, random_state=42\n",
    ")"
   ]
  },
  {
   "cell_type": "code",
   "execution_count": 80,
   "metadata": {},
   "outputs": [],
   "source": [
    "# Fit/predict\n",
    "etc = ExtraTreesClassifier()\n",
    "_ = etc.fit(X_train_from_train, y_train_from_train)\n",
    "y_pred_from_train = etc.predict(X_val_from_train)"
   ]
  },
  {
   "cell_type": "code",
   "execution_count": 81,
   "metadata": {},
   "outputs": [
    {
     "data": {
      "image/png": "[encoded data removed]",
      "text/plain": [
       "<Figure size 576x360 with 2 Axes>"
      ]
     },
     "metadata": {
      "needs_background": "light"
     },
     "output_type": "display_data"
    }
   ],
   "source": [
    "# Plot confusion matrix\n",
    "fig, ax = plt.subplots(figsize=(8, 5))\n",
    "cmp = ConfusionMatrixDisplay(\n",
    "    confusion_matrix(y_val_from_train, y_pred_from_train),\n",
    "#     display_labels=[\"class_1\", \"class_2\", \"class_3\", \"class_4\"],\n",
    ")\n",
    "\n",
    "cmp.plot(ax=ax)\n",
    "plt.show();"
   ]
  },
  {
   "cell_type": "code",
   "execution_count": 82,
   "metadata": {},
   "outputs": [
    {
     "data": {
      "text/plain": [
       "0.8666666666666667"
      ]
     },
     "execution_count": 82,
     "metadata": {},
     "output_type": "execute_result"
    }
   ],
   "source": [
    "accuracy_score(y_val_from_train, y_pred_from_train)"
   ]
  },
  {
   "cell_type": "markdown",
   "metadata": {},
   "source": [
    "### Load X_test"
   ]
  },
  {
   "cell_type": "code",
   "execution_count": 35,
   "metadata": {},
   "outputs": [
    {
     "name": "stdout",
     "output_type": "stream",
     "text": [
      "(5000, 417)\n"
     ]
    },
    {
     "data": {
      "text/plain": [
       "array([[-0.320224, -0.228646, -0.15682 , ...,  8.753201,  8.729259,\n",
       "         8.35337 ],\n",
       "       [-0.654216, -0.359729, -0.310648, ...,  7.900267,  7.829638,\n",
       "         7.791331],\n",
       "       [-0.563835, -0.569221, -0.526724, ...,  8.887277,  8.819042,\n",
       "         8.775348],\n",
       "       ...,\n",
       "       [ 0.283713,  0.331597,  0.438737, ...,  7.186795,  7.174225,\n",
       "         7.202357],\n",
       "       [-1.40779 , -1.360505, -1.316212, ...,  8.737639,  8.888473,\n",
       "         8.959103],\n",
       "       [-0.0413  ,  0.180164,  0.155025, ...,  7.959524,  7.982268,\n",
       "         8.090606]])"
      ]
     },
     "execution_count": 35,
     "metadata": {},
     "output_type": "execute_result"
    }
   ],
   "source": [
    "with open('X_test_139.npy', 'rb') as f:\n",
    "    X_test = np.load(f)\n",
    "print(X_test.shape)\n",
    "X_test"
   ]
  },
  {
   "cell_type": "markdown",
   "metadata": {},
   "source": [
    "# Try training using 9 features"
   ]
  },
  {
   "cell_type": "code",
   "execution_count": 142,
   "metadata": {},
   "outputs": [
    {
     "name": "stdout",
     "output_type": "stream",
     "text": [
      "(9000, 9)\n"
     ]
    },
    {
     "data": {
      "text/plain": [
       "array([[ 1.59010940e-01,  5.44393051e-01,  2.96363794e-01, ...,\n",
       "         8.13342643e+00,  4.42429811e-01,  1.95744138e-01],\n",
       "       [ 1.74547752e-01,  6.17015065e-01,  3.80707590e-01, ...,\n",
       "         8.72946826e+00,  3.86236664e-01,  1.49178761e-01],\n",
       "       [-1.61696002e+00,  8.51122136e-01,  7.24408891e-01, ...,\n",
       "         8.03634944e+00,  4.18813963e-01,  1.75405135e-01],\n",
       "       ...,\n",
       "       [-4.06112460e-01,  6.55641942e-01,  4.29866356e-01, ...,\n",
       "         8.77203979e+00,  5.35075014e-01,  2.86305270e-01],\n",
       "       [ 8.15228667e-03,  6.80594980e-01,  4.63209527e-01, ...,\n",
       "         8.48209796e+00,  8.69155016e-01,  7.55430442e-01],\n",
       "       [-5.17633651e-01,  5.38173469e-01,  2.89630682e-01, ...,\n",
       "         7.45196084e+00,  3.49370740e-01,  1.22059914e-01]])"
      ]
     },
     "execution_count": 142,
     "metadata": {},
     "output_type": "execute_result"
    }
   ],
   "source": [
    "# Load X_train\n",
    "with open('X_train_9.npy', 'rb') as f:\n",
    "    X_train = np.load(f)\n",
    "print(X_train.shape)\n",
    "X_train"
   ]
  },
  {
   "cell_type": "code",
   "execution_count": 143,
   "metadata": {},
   "outputs": [
    {
     "data": {
      "text/plain": [
       "array([ 7, 13,  6, ...,  3,  3, 18])"
      ]
     },
     "execution_count": 143,
     "metadata": {},
     "output_type": "execute_result"
    }
   ],
   "source": [
    "# Load y_train -> for prediction\n",
    "with open('y_train_9.npy', 'rb') as f:\n",
    "    y_train = np.load(f)\n",
    "y_train.shape\n",
    "y_train"
   ]
  },
  {
   "cell_type": "code",
   "execution_count": 144,
   "metadata": {},
   "outputs": [
    {
     "name": "stdout",
     "output_type": "stream",
     "text": [
      "(5000, 9)\n"
     ]
    },
    {
     "data": {
      "text/plain": [
       "array([[-3.05412347e-01,  7.42857043e-01,  5.51836586e-01, ...,\n",
       "         8.57556766e+00,  9.65011797e-01,  9.31247768e-01],\n",
       "       [-3.54157081e-01,  7.94335631e-01,  6.30969095e-01, ...,\n",
       "         7.68358773e+00,  4.39248036e-01,  1.92938837e-01],\n",
       "       [-8.47212227e-01,  3.84535013e-01,  1.47867176e-01, ...,\n",
       "         8.73888807e+00,  3.90374426e-01,  1.52392192e-01],\n",
       "       ...,\n",
       "       [ 4.29758667e-03,  3.23994204e-01,  1.04972244e-01, ...,\n",
       "         7.25703291e+00,  4.84647030e-01,  2.34882744e-01],\n",
       "       [-1.05151830e+00,  5.01833910e-01,  2.51837273e-01, ...,\n",
       "         8.55153351e+00,  4.80319851e-01,  2.30707159e-01],\n",
       "       [-5.40031205e-01,  4.61364725e-01,  2.12857410e-01, ...,\n",
       "         8.50877877e+00,  6.51297512e-01,  4.24188449e-01]])"
      ]
     },
     "execution_count": 144,
     "metadata": {},
     "output_type": "execute_result"
    }
   ],
   "source": [
    "# Load X_test\n",
    "with open('X_test_9.npy', 'rb') as f:\n",
    "    X_test = np.load(f)\n",
    "print(X_test.shape)\n",
    "X_test"
   ]
  },
  {
   "cell_type": "code",
   "execution_count": 145,
   "metadata": {},
   "outputs": [],
   "source": [
    "# Create validation data\n",
    "# Train/test sets\n",
    "X_train_from_train, X_val_from_train, y_train_from_train, y_val_from_train = train_test_split(\n",
    "    X_train, y_train, test_size=0.15, random_state=42\n",
    ")"
   ]
  },
  {
   "cell_type": "code",
   "execution_count": 146,
   "metadata": {},
   "outputs": [],
   "source": [
    "# Fit/predict\n",
    "etc = ExtraTreesClassifier(n_estimators=1000, random_state=0)\n",
    "_ = etc.fit(X_train, y_train)\n",
    "y_pred_from_train = etc.predict(X_val_from_train)"
   ]
  },
  {
   "cell_type": "code",
   "execution_count": 147,
   "metadata": {},
   "outputs": [
    {
     "data": {
      "image/png": "[encoded data removed]",
      "text/plain": [
       "<Figure size 576x360 with 2 Axes>"
      ]
     },
     "metadata": {
      "needs_background": "light"
     },
     "output_type": "display_data"
    }
   ],
   "source": [
    "# Plot confusion matrix\n",
    "fig, ax = plt.subplots(figsize=(8, 5))\n",
    "cmp = ConfusionMatrixDisplay(\n",
    "    confusion_matrix(y_val_from_train, y_pred_from_train),\n",
    "#     display_labels=[\"class_1\", \"class_2\", \"class_3\", \"class_4\"],\n",
    ")\n",
    "\n",
    "cmp.plot(ax=ax)\n",
    "plt.show();"
   ]
  },
  {
   "cell_type": "code",
   "execution_count": 148,
   "metadata": {},
   "outputs": [
    {
     "data": {
      "text/plain": [
       "1.0"
      ]
     },
     "execution_count": 148,
     "metadata": {},
     "output_type": "execute_result"
    }
   ],
   "source": [
    "accuracy_score(y_val_from_train, y_pred_from_train)"
   ]
  },
  {
   "cell_type": "markdown",
   "metadata": {},
   "source": [
    "### Make Submission"
   ]
  },
  {
   "cell_type": "code",
   "execution_count": 136,
   "metadata": {},
   "outputs": [],
   "source": [
    "preds = etc.predict(X_test)"
   ]
  },
  {
   "cell_type": "code",
   "execution_count": 137,
   "metadata": {},
   "outputs": [
    {
     "name": "stdout",
     "output_type": "stream",
     "text": [
      "(5000,)\n"
     ]
    },
    {
     "data": {
      "text/plain": [
       "array([ 3,  4,  5, ..., 18,  5,  1])"
      ]
     },
     "execution_count": 137,
     "metadata": {},
     "output_type": "execute_result"
    }
   ],
   "source": [
    "print(preds.shape)\n",
    "preds"
   ]
  },
  {
   "cell_type": "code",
   "execution_count": 138,
   "metadata": {},
   "outputs": [
    {
     "data": {
      "text/plain": [
       "5000"
      ]
     },
     "execution_count": 138,
     "metadata": {},
     "output_type": "execute_result"
    }
   ],
   "source": [
    "# Read labels\n",
    "with open('test_labels_sorted.npy', 'rb') as f:\n",
    "    test_labels = np.load(f)\n",
    "len(test_labels)"
   ]
  },
  {
   "cell_type": "code",
   "execution_count": 139,
   "metadata": {},
   "outputs": [],
   "source": [
    "def make_submission(test_labels, preds):\n",
    "    assert len(preds) == 5000\n",
    "    \n",
    "    submission = pd.DataFrame(columns=['id', 'class'])\n",
    "    for label, pred in zip(test_labels, preds):\n",
    "        submission = submission.append({'id': label, 'class': pred}, ignore_index=True)\n",
    "    return submission"
   ]
  },
  {
   "cell_type": "code",
   "execution_count": 140,
   "metadata": {},
   "outputs": [
    {
     "data": {
      "text/html": [
       "<div>\n",
       "<style scoped>\n",
       "    .dataframe tbody tr th:only-of-type {\n",
       "        vertical-align: middle;\n",
       "    }\n",
       "\n",
       "    .dataframe tbody tr th {\n",
       "        vertical-align: top;\n",
       "    }\n",
       "\n",
       "    .dataframe thead th {\n",
       "        text-align: right;\n",
       "    }\n",
       "</style>\n",
       "<table border=\"1\" class=\"dataframe\">\n",
       "  <thead>\n",
       "    <tr style=\"text-align: right;\">\n",
       "      <th></th>\n",
       "      <th>id</th>\n",
       "      <th>class</th>\n",
       "    </tr>\n",
       "  </thead>\n",
       "  <tbody>\n",
       "    <tr>\n",
       "      <th>0</th>\n",
       "      <td>10001</td>\n",
       "      <td>3</td>\n",
       "    </tr>\n",
       "    <tr>\n",
       "      <th>1</th>\n",
       "      <td>10002</td>\n",
       "      <td>10</td>\n",
       "    </tr>\n",
       "    <tr>\n",
       "      <th>2</th>\n",
       "      <td>10004</td>\n",
       "      <td>5</td>\n",
       "    </tr>\n",
       "    <tr>\n",
       "      <th>3</th>\n",
       "      <td>10008</td>\n",
       "      <td>20</td>\n",
       "    </tr>\n",
       "    <tr>\n",
       "      <th>4</th>\n",
       "      <td>10009</td>\n",
       "      <td>5</td>\n",
       "    </tr>\n",
       "    <tr>\n",
       "      <th>...</th>\n",
       "      <td>...</td>\n",
       "      <td>...</td>\n",
       "    </tr>\n",
       "    <tr>\n",
       "      <th>4995</th>\n",
       "      <td>23986</td>\n",
       "      <td>9</td>\n",
       "    </tr>\n",
       "    <tr>\n",
       "      <th>4996</th>\n",
       "      <td>23991</td>\n",
       "      <td>12</td>\n",
       "    </tr>\n",
       "    <tr>\n",
       "      <th>4997</th>\n",
       "      <td>23992</td>\n",
       "      <td>18</td>\n",
       "    </tr>\n",
       "    <tr>\n",
       "      <th>4998</th>\n",
       "      <td>23998</td>\n",
       "      <td>5</td>\n",
       "    </tr>\n",
       "    <tr>\n",
       "      <th>4999</th>\n",
       "      <td>24000</td>\n",
       "      <td>1</td>\n",
       "    </tr>\n",
       "  </tbody>\n",
       "</table>\n",
       "<p>5000 rows × 2 columns</p>\n",
       "</div>"
      ],
      "text/plain": [
       "         id class\n",
       "0     10001     3\n",
       "1     10002    10\n",
       "2     10004     5\n",
       "3     10008    20\n",
       "4     10009     5\n",
       "...     ...   ...\n",
       "4995  23986     9\n",
       "4996  23991    12\n",
       "4997  23992    18\n",
       "4998  23998     5\n",
       "4999  24000     1\n",
       "\n",
       "[5000 rows x 2 columns]"
      ]
     },
     "execution_count": 140,
     "metadata": {},
     "output_type": "execute_result"
    }
   ],
   "source": [
    "submission = make_submission(test_labels, y_pred)\n",
    "submission"
   ]
  },
  {
   "cell_type": "code",
   "execution_count": 141,
   "metadata": {},
   "outputs": [],
   "source": [
    "submission.to_csv('submission_9f_etc_1000.csv', index=False)"
   ]
  },
  {
   "cell_type": "markdown",
   "metadata": {},
   "source": [
    "# Try training using 15 features"
   ]
  },
  {
   "cell_type": "code",
   "execution_count": 158,
   "metadata": {},
   "outputs": [
    {
     "name": "stdout",
     "output_type": "stream",
     "text": [
      "(9000, 15)\n"
     ]
    },
    {
     "data": {
      "text/plain": [
       "array([[ 1.59010940e-01,  5.44393051e-01,  2.96363794e-01, ...,\n",
       "         1.95744138e-01,  6.51402400e+00,  9.69951000e+00],\n",
       "       [ 1.74547752e-01,  6.17015065e-01,  3.80707590e-01, ...,\n",
       "         1.49178761e-01,  7.63271500e+00,  9.89703100e+00],\n",
       "       [-1.61696002e+00,  8.51122136e-01,  7.24408891e-01, ...,\n",
       "         1.75405135e-01,  7.25143900e+00,  9.76475100e+00],\n",
       "       ...,\n",
       "       [-4.06112460e-01,  6.55641942e-01,  4.29866356e-01, ...,\n",
       "         2.86305270e-01,  7.59620300e+00,  1.02860890e+01],\n",
       "       [ 8.15228667e-03,  6.80594980e-01,  4.63209527e-01, ...,\n",
       "         7.55430442e-01,  6.50085600e+00,  1.11833160e+01],\n",
       "       [-5.17633651e-01,  5.38173469e-01,  2.89630682e-01, ...,\n",
       "         1.22059914e-01,  6.73848100e+00,  8.35995400e+00]])"
      ]
     },
     "execution_count": 158,
     "metadata": {},
     "output_type": "execute_result"
    }
   ],
   "source": [
    "# Load X_train\n",
    "with open('X_train_15.npy', 'rb') as f:\n",
    "    X_train = np.load(f)\n",
    "print(X_train.shape)\n",
    "X_train"
   ]
  },
  {
   "cell_type": "code",
   "execution_count": 159,
   "metadata": {},
   "outputs": [
    {
     "data": {
      "text/plain": [
       "array([ 7, 13,  6, ...,  3,  3, 18])"
      ]
     },
     "execution_count": 159,
     "metadata": {},
     "output_type": "execute_result"
    }
   ],
   "source": [
    "# Load y_train -> for prediction\n",
    "with open('y_train_15.npy', 'rb') as f:\n",
    "    y_train = np.load(f)\n",
    "y_train.shape\n",
    "y_train"
   ]
  },
  {
   "cell_type": "code",
   "execution_count": 160,
   "metadata": {},
   "outputs": [],
   "source": [
    "# Create validation data\n",
    "# Train/test sets\n",
    "X_train_from_train, X_val_from_train, y_train_from_train, y_val_from_train = train_test_split(\n",
    "    X_train, y_train, test_size=0.15, random_state=42\n",
    ")"
   ]
  },
  {
   "cell_type": "code",
   "execution_count": 161,
   "metadata": {},
   "outputs": [],
   "source": [
    "# Fit/predict"
   ]
  },
  {
   "cell_type": "code",
   "execution_count": 164,
   "metadata": {},
   "outputs": [
    {
     "name": "stderr",
     "output_type": "stream",
     "text": [
      "100%|██████████| 29/29 [00:34<00:00,  1.17s/it]\n"
     ]
    },
    {
     "data": {
      "text/html": [
       "<div>\n",
       "<style scoped>\n",
       "    .dataframe tbody tr th:only-of-type {\n",
       "        vertical-align: middle;\n",
       "    }\n",
       "\n",
       "    .dataframe tbody tr th {\n",
       "        vertical-align: top;\n",
       "    }\n",
       "\n",
       "    .dataframe thead th {\n",
       "        text-align: right;\n",
       "    }\n",
       "</style>\n",
       "<table border=\"1\" class=\"dataframe\">\n",
       "  <thead>\n",
       "    <tr style=\"text-align: right;\">\n",
       "      <th></th>\n",
       "      <th>Accuracy</th>\n",
       "      <th>Balanced Accuracy</th>\n",
       "      <th>ROC AUC</th>\n",
       "      <th>F1 Score</th>\n",
       "      <th>Time Taken</th>\n",
       "    </tr>\n",
       "    <tr>\n",
       "      <th>Model</th>\n",
       "      <th></th>\n",
       "      <th></th>\n",
       "      <th></th>\n",
       "      <th></th>\n",
       "      <th></th>\n",
       "    </tr>\n",
       "  </thead>\n",
       "  <tbody>\n",
       "    <tr>\n",
       "      <th>LGBMClassifier</th>\n",
       "      <td>0.94</td>\n",
       "      <td>0.94</td>\n",
       "      <td>None</td>\n",
       "      <td>0.94</td>\n",
       "      <td>2.52</td>\n",
       "    </tr>\n",
       "    <tr>\n",
       "      <th>ExtraTreesClassifier</th>\n",
       "      <td>0.93</td>\n",
       "      <td>0.93</td>\n",
       "      <td>None</td>\n",
       "      <td>0.93</td>\n",
       "      <td>0.69</td>\n",
       "    </tr>\n",
       "    <tr>\n",
       "      <th>RandomForestClassifier</th>\n",
       "      <td>0.91</td>\n",
       "      <td>0.91</td>\n",
       "      <td>None</td>\n",
       "      <td>0.91</td>\n",
       "      <td>2.06</td>\n",
       "    </tr>\n",
       "    <tr>\n",
       "      <th>BaggingClassifier</th>\n",
       "      <td>0.90</td>\n",
       "      <td>0.90</td>\n",
       "      <td>None</td>\n",
       "      <td>0.90</td>\n",
       "      <td>0.83</td>\n",
       "    </tr>\n",
       "    <tr>\n",
       "      <th>SVC</th>\n",
       "      <td>0.89</td>\n",
       "      <td>0.89</td>\n",
       "      <td>None</td>\n",
       "      <td>0.89</td>\n",
       "      <td>1.01</td>\n",
       "    </tr>\n",
       "    <tr>\n",
       "      <th>LabelSpreading</th>\n",
       "      <td>0.89</td>\n",
       "      <td>0.88</td>\n",
       "      <td>None</td>\n",
       "      <td>0.89</td>\n",
       "      <td>8.18</td>\n",
       "    </tr>\n",
       "    <tr>\n",
       "      <th>LabelPropagation</th>\n",
       "      <td>0.88</td>\n",
       "      <td>0.88</td>\n",
       "      <td>None</td>\n",
       "      <td>0.88</td>\n",
       "      <td>2.40</td>\n",
       "    </tr>\n",
       "    <tr>\n",
       "      <th>LinearDiscriminantAnalysis</th>\n",
       "      <td>0.87</td>\n",
       "      <td>0.87</td>\n",
       "      <td>None</td>\n",
       "      <td>0.87</td>\n",
       "      <td>0.06</td>\n",
       "    </tr>\n",
       "    <tr>\n",
       "      <th>LogisticRegression</th>\n",
       "      <td>0.88</td>\n",
       "      <td>0.87</td>\n",
       "      <td>None</td>\n",
       "      <td>0.87</td>\n",
       "      <td>1.02</td>\n",
       "    </tr>\n",
       "    <tr>\n",
       "      <th>DecisionTreeClassifier</th>\n",
       "      <td>0.87</td>\n",
       "      <td>0.87</td>\n",
       "      <td>None</td>\n",
       "      <td>0.87</td>\n",
       "      <td>0.16</td>\n",
       "    </tr>\n",
       "    <tr>\n",
       "      <th>QuadraticDiscriminantAnalysis</th>\n",
       "      <td>0.87</td>\n",
       "      <td>0.87</td>\n",
       "      <td>None</td>\n",
       "      <td>0.87</td>\n",
       "      <td>0.03</td>\n",
       "    </tr>\n",
       "    <tr>\n",
       "      <th>KNeighborsClassifier</th>\n",
       "      <td>0.85</td>\n",
       "      <td>0.85</td>\n",
       "      <td>None</td>\n",
       "      <td>0.85</td>\n",
       "      <td>0.14</td>\n",
       "    </tr>\n",
       "    <tr>\n",
       "      <th>CalibratedClassifierCV</th>\n",
       "      <td>0.84</td>\n",
       "      <td>0.84</td>\n",
       "      <td>None</td>\n",
       "      <td>0.84</td>\n",
       "      <td>6.77</td>\n",
       "    </tr>\n",
       "    <tr>\n",
       "      <th>LinearSVC</th>\n",
       "      <td>0.84</td>\n",
       "      <td>0.83</td>\n",
       "      <td>None</td>\n",
       "      <td>0.83</td>\n",
       "      <td>1.66</td>\n",
       "    </tr>\n",
       "    <tr>\n",
       "      <th>NuSVC</th>\n",
       "      <td>0.82</td>\n",
       "      <td>0.82</td>\n",
       "      <td>None</td>\n",
       "      <td>0.82</td>\n",
       "      <td>4.62</td>\n",
       "    </tr>\n",
       "    <tr>\n",
       "      <th>ExtraTreeClassifier</th>\n",
       "      <td>0.81</td>\n",
       "      <td>0.81</td>\n",
       "      <td>None</td>\n",
       "      <td>0.81</td>\n",
       "      <td>0.02</td>\n",
       "    </tr>\n",
       "    <tr>\n",
       "      <th>SGDClassifier</th>\n",
       "      <td>0.81</td>\n",
       "      <td>0.80</td>\n",
       "      <td>None</td>\n",
       "      <td>0.81</td>\n",
       "      <td>0.29</td>\n",
       "    </tr>\n",
       "    <tr>\n",
       "      <th>Perceptron</th>\n",
       "      <td>0.78</td>\n",
       "      <td>0.77</td>\n",
       "      <td>None</td>\n",
       "      <td>0.78</td>\n",
       "      <td>0.11</td>\n",
       "    </tr>\n",
       "    <tr>\n",
       "      <th>GaussianNB</th>\n",
       "      <td>0.77</td>\n",
       "      <td>0.77</td>\n",
       "      <td>None</td>\n",
       "      <td>0.76</td>\n",
       "      <td>0.03</td>\n",
       "    </tr>\n",
       "    <tr>\n",
       "      <th>NearestCentroid</th>\n",
       "      <td>0.73</td>\n",
       "      <td>0.73</td>\n",
       "      <td>None</td>\n",
       "      <td>0.73</td>\n",
       "      <td>0.02</td>\n",
       "    </tr>\n",
       "    <tr>\n",
       "      <th>PassiveAggressiveClassifier</th>\n",
       "      <td>0.71</td>\n",
       "      <td>0.72</td>\n",
       "      <td>None</td>\n",
       "      <td>0.70</td>\n",
       "      <td>0.12</td>\n",
       "    </tr>\n",
       "    <tr>\n",
       "      <th>RidgeClassifier</th>\n",
       "      <td>0.71</td>\n",
       "      <td>0.71</td>\n",
       "      <td>None</td>\n",
       "      <td>0.68</td>\n",
       "      <td>0.04</td>\n",
       "    </tr>\n",
       "    <tr>\n",
       "      <th>RidgeClassifierCV</th>\n",
       "      <td>0.71</td>\n",
       "      <td>0.71</td>\n",
       "      <td>None</td>\n",
       "      <td>0.68</td>\n",
       "      <td>0.04</td>\n",
       "    </tr>\n",
       "    <tr>\n",
       "      <th>BernoulliNB</th>\n",
       "      <td>0.59</td>\n",
       "      <td>0.59</td>\n",
       "      <td>None</td>\n",
       "      <td>0.58</td>\n",
       "      <td>0.02</td>\n",
       "    </tr>\n",
       "    <tr>\n",
       "      <th>AdaBoostClassifier</th>\n",
       "      <td>0.15</td>\n",
       "      <td>0.18</td>\n",
       "      <td>None</td>\n",
       "      <td>0.08</td>\n",
       "      <td>1.12</td>\n",
       "    </tr>\n",
       "    <tr>\n",
       "      <th>DummyClassifier</th>\n",
       "      <td>0.05</td>\n",
       "      <td>0.05</td>\n",
       "      <td>None</td>\n",
       "      <td>0.05</td>\n",
       "      <td>0.02</td>\n",
       "    </tr>\n",
       "  </tbody>\n",
       "</table>\n",
       "</div>"
      ],
      "text/plain": [
       "                               Accuracy  Balanced Accuracy ROC AUC  F1 Score  \\\n",
       "Model                                                                          \n",
       "LGBMClassifier                     0.94               0.94    None      0.94   \n",
       "ExtraTreesClassifier               0.93               0.93    None      0.93   \n",
       "RandomForestClassifier             0.91               0.91    None      0.91   \n",
       "BaggingClassifier                  0.90               0.90    None      0.90   \n",
       "SVC                                0.89               0.89    None      0.89   \n",
       "LabelSpreading                     0.89               0.88    None      0.89   \n",
       "LabelPropagation                   0.88               0.88    None      0.88   \n",
       "LinearDiscriminantAnalysis         0.87               0.87    None      0.87   \n",
       "LogisticRegression                 0.88               0.87    None      0.87   \n",
       "DecisionTreeClassifier             0.87               0.87    None      0.87   \n",
       "QuadraticDiscriminantAnalysis      0.87               0.87    None      0.87   \n",
       "KNeighborsClassifier               0.85               0.85    None      0.85   \n",
       "CalibratedClassifierCV             0.84               0.84    None      0.84   \n",
       "LinearSVC                          0.84               0.83    None      0.83   \n",
       "NuSVC                              0.82               0.82    None      0.82   \n",
       "ExtraTreeClassifier                0.81               0.81    None      0.81   \n",
       "SGDClassifier                      0.81               0.80    None      0.81   \n",
       "Perceptron                         0.78               0.77    None      0.78   \n",
       "GaussianNB                         0.77               0.77    None      0.76   \n",
       "NearestCentroid                    0.73               0.73    None      0.73   \n",
       "PassiveAggressiveClassifier        0.71               0.72    None      0.70   \n",
       "RidgeClassifier                    0.71               0.71    None      0.68   \n",
       "RidgeClassifierCV                  0.71               0.71    None      0.68   \n",
       "BernoulliNB                        0.59               0.59    None      0.58   \n",
       "AdaBoostClassifier                 0.15               0.18    None      0.08   \n",
       "DummyClassifier                    0.05               0.05    None      0.05   \n",
       "\n",
       "                               Time Taken  \n",
       "Model                                      \n",
       "LGBMClassifier                       2.52  \n",
       "ExtraTreesClassifier                 0.69  \n",
       "RandomForestClassifier               2.06  \n",
       "BaggingClassifier                    0.83  \n",
       "SVC                                  1.01  \n",
       "LabelSpreading                       8.18  \n",
       "LabelPropagation                     2.40  \n",
       "LinearDiscriminantAnalysis           0.06  \n",
       "LogisticRegression                   1.02  \n",
       "DecisionTreeClassifier               0.16  \n",
       "QuadraticDiscriminantAnalysis        0.03  \n",
       "KNeighborsClassifier                 0.14  \n",
       "CalibratedClassifierCV               6.77  \n",
       "LinearSVC                            1.66  \n",
       "NuSVC                                4.62  \n",
       "ExtraTreeClassifier                  0.02  \n",
       "SGDClassifier                        0.29  \n",
       "Perceptron                           0.11  \n",
       "GaussianNB                           0.03  \n",
       "NearestCentroid                      0.02  \n",
       "PassiveAggressiveClassifier          0.12  \n",
       "RidgeClassifier                      0.04  \n",
       "RidgeClassifierCV                    0.04  \n",
       "BernoulliNB                          0.02  \n",
       "AdaBoostClassifier                   1.12  \n",
       "DummyClassifier                      0.02  "
      ]
     },
     "execution_count": 164,
     "metadata": {},
     "output_type": "execute_result"
    }
   ],
   "source": [
    "# Lazy Classifier\n",
    "clf = LazyClassifier(verbose=0,ignore_warnings=True, custom_metric=None)\n",
    "models,predictions = clf.fit(X_train_from_train, X_val_from_train, y_train_from_train, y_val_from_train)\n",
    "models"
   ]
  },
  {
   "cell_type": "markdown",
   "metadata": {},
   "source": [
    "### Let's try LightGBM"
   ]
  },
  {
   "cell_type": "code",
   "execution_count": null,
   "metadata": {},
   "outputs": [],
   "source": []
  },
  {
   "cell_type": "code",
   "execution_count": null,
   "metadata": {},
   "outputs": [],
   "source": []
  },
  {
   "cell_type": "markdown",
   "metadata": {},
   "source": [
    "### Let's try ExtraTreesClassifier"
   ]
  },
  {
   "cell_type": "code",
   "execution_count": null,
   "metadata": {},
   "outputs": [],
   "source": []
  }
 ],
 "metadata": {
  "kernelspec": {
   "display_name": "Python 3.9.13 ('base')",
   "language": "python",
   "name": "python3"
  },
  "language_info": {
   "codemirror_mode": {
    "name": "ipython",
    "version": 3
   },
   "file_extension": ".py",
   "mimetype": "text/x-python",
   "name": "python",
   "nbconvert_exporter": "python",
   "pygments_lexer": "ipython3",
   "version": "3.9.13"
  },
  "vscode": {
   "interpreter": {
    "hash": "ad2bdc8ecc057115af97d19610ffacc2b4e99fae6737bb82f5d7fb13d2f2c186"
   }
  }
 },
 "nbformat": 4,
 "nbformat_minor": 4
}
