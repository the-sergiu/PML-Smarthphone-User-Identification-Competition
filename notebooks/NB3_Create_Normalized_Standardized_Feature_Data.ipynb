{
 "cells": [
  {
   "cell_type": "code",
   "execution_count": 9,
   "id": "191c30c9",
   "metadata": {},
   "outputs": [
    {
     "name": "stdout",
     "output_type": "stream",
     "text": [
      "Defaulting to user installation because normal site-packages is not writeable\n",
      "Collecting mlxtend\n",
      "  Downloading mlxtend-0.21.0-py2.py3-none-any.whl (1.3 MB)\n",
      "     ---------------------------------------- 1.3/1.3 MB 7.1 MB/s eta 0:00:00\n",
      "Requirement already satisfied: scipy>=1.2.1 in c:\\programdata\\anaconda3\\lib\\site-packages (from mlxtend) (1.9.1)\n",
      "Requirement already satisfied: setuptools in c:\\programdata\\anaconda3\\lib\\site-packages (from mlxtend) (63.4.1)\n",
      "Requirement already satisfied: scikit-learn>=1.0.2 in c:\\programdata\\anaconda3\\lib\\site-packages (from mlxtend) (1.0.2)\n",
      "Requirement already satisfied: numpy>=1.16.2 in c:\\programdata\\anaconda3\\lib\\site-packages (from mlxtend) (1.21.5)\n",
      "Requirement already satisfied: matplotlib>=3.0.0 in c:\\programdata\\anaconda3\\lib\\site-packages (from mlxtend) (3.5.2)\n",
      "Requirement already satisfied: joblib>=0.13.2 in c:\\programdata\\anaconda3\\lib\\site-packages (from mlxtend) (1.1.0)\n",
      "Requirement already satisfied: pandas>=0.24.2 in c:\\programdata\\anaconda3\\lib\\site-packages (from mlxtend) (1.4.4)\n",
      "Requirement already satisfied: python-dateutil>=2.7 in c:\\programdata\\anaconda3\\lib\\site-packages (from matplotlib>=3.0.0->mlxtend) (2.8.2)\n",
      "Requirement already satisfied: kiwisolver>=1.0.1 in c:\\programdata\\anaconda3\\lib\\site-packages (from matplotlib>=3.0.0->mlxtend) (1.4.2)\n",
      "Requirement already satisfied: pillow>=6.2.0 in c:\\programdata\\anaconda3\\lib\\site-packages (from matplotlib>=3.0.0->mlxtend) (9.2.0)\n",
      "Requirement already satisfied: packaging>=20.0 in c:\\programdata\\anaconda3\\lib\\site-packages (from matplotlib>=3.0.0->mlxtend) (21.3)\n",
      "Requirement already satisfied: pyparsing>=2.2.1 in c:\\programdata\\anaconda3\\lib\\site-packages (from matplotlib>=3.0.0->mlxtend) (3.0.9)\n",
      "Requirement already satisfied: fonttools>=4.22.0 in c:\\programdata\\anaconda3\\lib\\site-packages (from matplotlib>=3.0.0->mlxtend) (4.25.0)\n",
      "Requirement already satisfied: cycler>=0.10 in c:\\programdata\\anaconda3\\lib\\site-packages (from matplotlib>=3.0.0->mlxtend) (0.11.0)\n",
      "Requirement already satisfied: pytz>=2020.1 in c:\\programdata\\anaconda3\\lib\\site-packages (from pandas>=0.24.2->mlxtend) (2022.1)\n",
      "Requirement already satisfied: threadpoolctl>=2.0.0 in c:\\programdata\\anaconda3\\lib\\site-packages (from scikit-learn>=1.0.2->mlxtend) (2.2.0)\n",
      "Requirement already satisfied: six>=1.5 in c:\\programdata\\anaconda3\\lib\\site-packages (from python-dateutil>=2.7->matplotlib>=3.0.0->mlxtend) (1.16.0)\n",
      "Installing collected packages: mlxtend\n",
      "Successfully installed mlxtend-0.21.0\n"
     ]
    }
   ],
   "source": [
    "!pip install mlxtend"
   ]
  },
  {
   "cell_type": "code",
   "execution_count": 3,
   "id": "e4196538",
   "metadata": {},
   "outputs": [],
   "source": [
    "import numpy as np\n",
    "import pickle\n",
    "from sklearn.preprocessing import normalize"
   ]
  },
  {
   "cell_type": "markdown",
   "id": "7b7d3389",
   "metadata": {},
   "source": [
    "# 3 features per axis"
   ]
  },
  {
   "cell_type": "markdown",
   "id": "b85c2fbb",
   "metadata": {},
   "source": [
    "## X_Train"
   ]
  },
  {
   "cell_type": "code",
   "execution_count": 16,
   "id": "48333f39",
   "metadata": {},
   "outputs": [
    {
     "name": "stdout",
     "output_type": "stream",
     "text": [
      "(9000, 9)\n"
     ]
    },
    {
     "data": {
      "text/plain": [
       "array([[ 1.59010940e-01,  5.44393051e-01,  2.96363794e-01, ...,\n",
       "         8.13342643e+00,  4.42429811e-01,  1.95744138e-01],\n",
       "       [ 1.74547752e-01,  6.17015065e-01,  3.80707590e-01, ...,\n",
       "         8.72946826e+00,  3.86236664e-01,  1.49178761e-01],\n",
       "       [-1.61696002e+00,  8.51122136e-01,  7.24408891e-01, ...,\n",
       "         8.03634944e+00,  4.18813963e-01,  1.75405135e-01],\n",
       "       ...,\n",
       "       [-4.06112460e-01,  6.55641942e-01,  4.29866356e-01, ...,\n",
       "         8.77203979e+00,  5.35075014e-01,  2.86305270e-01],\n",
       "       [ 8.15228667e-03,  6.80594980e-01,  4.63209527e-01, ...,\n",
       "         8.48209796e+00,  8.69155016e-01,  7.55430442e-01],\n",
       "       [-5.17633651e-01,  5.38173469e-01,  2.89630682e-01, ...,\n",
       "         7.45196084e+00,  3.49370740e-01,  1.22059914e-01]])"
      ]
     },
     "execution_count": 16,
     "metadata": {},
     "output_type": "execute_result"
    }
   ],
   "source": [
    "# Load X_train\n",
    "with open('3_features_per_axis/X_train_9.npy', 'rb') as f:\n",
    "    X_train = np.load(f)\n",
    "print(X_train.shape)\n",
    "X_train"
   ]
  },
  {
   "cell_type": "code",
   "execution_count": 17,
   "id": "f1361429",
   "metadata": {},
   "outputs": [],
   "source": [
    "X_train_normalized, norms = normalize(X_train, axis=0, norm='max', return_norm=True)"
   ]
  },
  {
   "cell_type": "code",
   "execution_count": 18,
   "id": "aeff65e4",
   "metadata": {},
   "outputs": [
    {
     "data": {
      "text/plain": [
       "array([[ 0.0499259 ,  0.23764323,  0.05647431, ...,  0.83017519,\n",
       "         0.21968259,  0.04826044],\n",
       "       [ 0.05480412,  0.26934483,  0.07254664, ...,  0.89101292,\n",
       "         0.19178064,  0.03677981],\n",
       "       [-0.50768953,  0.37153931,  0.13804146, ...,  0.82026659,\n",
       "         0.20795646,  0.04324589],\n",
       "       ...,\n",
       "       [-0.12751029,  0.28620658,  0.0819142 , ...,  0.89535817,\n",
       "         0.26568432,  0.07058816],\n",
       "       [ 0.00255964,  0.2970993 ,  0.08826799, ...,  0.86576394,\n",
       "         0.43156727,  0.1862503 ],\n",
       "       [-0.16252547,  0.23492821,  0.05519126, ...,  0.76061831,\n",
       "         0.17347536,  0.0300937 ]])"
      ]
     },
     "execution_count": 18,
     "metadata": {},
     "output_type": "execute_result"
    }
   ],
   "source": [
    "X_train_normalized"
   ]
  },
  {
   "cell_type": "code",
   "execution_count": 19,
   "id": "f0430329",
   "metadata": {},
   "outputs": [
    {
     "data": {
      "text/plain": [
       "array([3.18493867, 2.2907997 , 5.24776329, 8.18558804, 2.26152724,\n",
       "       5.11450545, 9.79724098, 2.01395028, 4.05599574])"
      ]
     },
     "execution_count": 19,
     "metadata": {},
     "output_type": "execute_result"
    }
   ],
   "source": [
    "norms"
   ]
  },
  {
   "cell_type": "code",
   "execution_count": 15,
   "id": "8f01b4ca",
   "metadata": {},
   "outputs": [],
   "source": [
    "# Save X_train\n",
    "with open('3_features_per_axis/X_train_9_ns.npy', 'wb') as f:\n",
    "    np.save(f, X_train_normalized)"
   ]
  },
  {
   "cell_type": "markdown",
   "id": "3c38836a",
   "metadata": {},
   "source": [
    "## X_test"
   ]
  },
  {
   "cell_type": "code",
   "execution_count": 20,
   "id": "bd219353",
   "metadata": {},
   "outputs": [
    {
     "name": "stdout",
     "output_type": "stream",
     "text": [
      "(5000, 9)\n"
     ]
    },
    {
     "data": {
      "text/plain": [
       "array([[-3.05412347e-01,  7.42857043e-01,  5.51836586e-01, ...,\n",
       "         8.57556766e+00,  9.65011797e-01,  9.31247768e-01],\n",
       "       [-3.54157081e-01,  7.94335631e-01,  6.30969095e-01, ...,\n",
       "         7.68358773e+00,  4.39248036e-01,  1.92938837e-01],\n",
       "       [-8.47212227e-01,  3.84535013e-01,  1.47867176e-01, ...,\n",
       "         8.73888807e+00,  3.90374426e-01,  1.52392192e-01],\n",
       "       ...,\n",
       "       [ 4.29758667e-03,  3.23994204e-01,  1.04972244e-01, ...,\n",
       "         7.25703291e+00,  4.84647030e-01,  2.34882744e-01],\n",
       "       [-1.05151830e+00,  5.01833910e-01,  2.51837273e-01, ...,\n",
       "         8.55153351e+00,  4.80319851e-01,  2.30707159e-01],\n",
       "       [-5.40031205e-01,  4.61364725e-01,  2.12857410e-01, ...,\n",
       "         8.50877877e+00,  6.51297512e-01,  4.24188449e-01]])"
      ]
     },
     "execution_count": 20,
     "metadata": {},
     "output_type": "execute_result"
    }
   ],
   "source": [
    "# Load X_test\n",
    "with open('3_features_per_axis/X_test_9.npy', 'rb') as f:\n",
    "    X_test = np.load(f)\n",
    "print(X_test.shape)\n",
    "X_test"
   ]
  },
  {
   "cell_type": "code",
   "execution_count": 21,
   "id": "69e09f99",
   "metadata": {},
   "outputs": [],
   "source": [
    "X_test_normalized, norms = normalize(X_test, axis=0, norm='max', return_norm=True)"
   ]
  },
  {
   "cell_type": "code",
   "execution_count": 22,
   "id": "7f55a19e",
   "metadata": {},
   "outputs": [
    {
     "data": {
      "text/plain": [
       "array([[-0.09310528,  0.33921207,  0.11506483, ...,  0.87121729,\n",
       "         0.36800667,  0.13542891],\n",
       "       [-0.10796517,  0.36271882,  0.13156494, ...,  0.78059841,\n",
       "         0.16750698,  0.02805859],\n",
       "       [-0.25827356,  0.17559087,  0.03083215, ...,  0.88780949,\n",
       "         0.14886905,  0.022162  ],\n",
       "       ...,\n",
       "       [ 0.00131012,  0.14794602,  0.02188802, ...,  0.73726344,\n",
       "         0.18481986,  0.03415838],\n",
       "       [-0.32055649,  0.22915327,  0.05251122, ...,  0.86877559,\n",
       "         0.18316969,  0.03355114],\n",
       "       [-0.1646291 ,  0.21067375,  0.04438343, ...,  0.86443201,\n",
       "         0.24837192,  0.06168861]])"
      ]
     },
     "execution_count": 22,
     "metadata": {},
     "output_type": "execute_result"
    }
   ],
   "source": [
    "X_test_normalized"
   ]
  },
  {
   "cell_type": "code",
   "execution_count": 23,
   "id": "59f7f06a",
   "metadata": {},
   "outputs": [],
   "source": [
    "# Save X_train\n",
    "with open('3_features_per_axis/X_test_9_ns.npy', 'wb') as f:\n",
    "    np.save(f, X_test_normalized)"
   ]
  },
  {
   "cell_type": "markdown",
   "id": "992e7376",
   "metadata": {},
   "source": [
    "# 5 features per axis"
   ]
  },
  {
   "cell_type": "code",
   "execution_count": null,
   "id": "f08a54f7",
   "metadata": {},
   "outputs": [],
   "source": []
  }
 ],
 "metadata": {
  "kernelspec": {
   "display_name": "base",
   "language": "python",
   "name": "base"
  },
  "language_info": {
   "codemirror_mode": {
    "name": "ipython",
    "version": 3
   },
   "file_extension": ".py",
   "mimetype": "text/x-python",
   "name": "python",
   "nbconvert_exporter": "python",
   "pygments_lexer": "ipython3",
   "version": "3.8.0"
  }
 },
 "nbformat": 4,
 "nbformat_minor": 5
}
